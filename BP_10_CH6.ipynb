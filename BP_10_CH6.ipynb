{
  "nbformat": 4,
  "nbformat_minor": 0,
  "metadata": {
    "colab": {
      "provenance": [],
      "authorship_tag": "ABX9TyMtPiu6yGwByOPu62VwimHI",
      "include_colab_link": true
    },
    "kernelspec": {
      "name": "python3",
      "display_name": "Python 3"
    },
    "language_info": {
      "name": "python"
    }
  },
  "cells": [
    {
      "cell_type": "markdown",
      "metadata": {
        "id": "view-in-github",
        "colab_type": "text"
      },
      "source": [
        "<a href=\"https://colab.research.google.com/github/hoondaa/BP_10_CH6/blob/main/BP_10_CH6.ipynb\" target=\"_parent\"><img src=\"https://colab.research.google.com/assets/colab-badge.svg\" alt=\"Open In Colab\"/></a>"
      ]
    },
    {
      "cell_type": "code",
      "execution_count": 1,
      "metadata": {
        "colab": {
          "base_uri": "https://localhost:8080/"
        },
        "id": "ZSmg4skO_x1c",
        "outputId": "6f629d05-f275-49f4-dc07-04b0c0df03e2"
      },
      "outputs": [
        {
          "output_type": "stream",
          "name": "stdout",
          "text": [
            "2 4 6 8 10 12 14 16 18 20 22 24 26 28 30 32 34 36 38 40 42 44 46 48 50 52 54 56 58 60 62 64 66 68 70 72 74 76 78 80 82 84 86 88 90 92 94 96 98 100 "
          ]
        }
      ],
      "source": [
        "for i in range(2, 101):\n",
        "  if i%2==0 :\n",
        "    print(i,end = \" \")"
      ]
    },
    {
      "cell_type": "code",
      "source": [
        "year = 0\n",
        "balance = 1000\n",
        "\n",
        "while balance <= 2000 :\n",
        "  year = year + 1\n",
        "  interest = balance * 0.07\n",
        "  balance = balance + interest\n",
        "print(year, \"년이 걸립니다.\")"
      ],
      "metadata": {
        "colab": {
          "base_uri": "https://localhost:8080/"
        },
        "id": "Nyk82j38AVhY",
        "outputId": "66f1d46d-613b-4e6f-ab4d-d847fd2a4d13"
      },
      "execution_count": 5,
      "outputs": [
        {
          "output_type": "stream",
          "name": "stdout",
          "text": [
            "11 년이 걸립니다.\n"
          ]
        }
      ]
    },
    {
      "cell_type": "code",
      "source": [
        "n = 1234\n",
        "sum = 0\n",
        "while n > 0 :\n",
        "  digit = n % 10\n",
        "  sum = sum + digit\n",
        "  n = n // 10\n",
        "print(sum)"
      ],
      "metadata": {
        "colab": {
          "base_uri": "https://localhost:8080/"
        },
        "id": "r6QHHiwgA3hF",
        "outputId": "d5241f9e-569b-4317-ba3b-7fbc723cc8b5"
      },
      "execution_count": 12,
      "outputs": [
        {
          "output_type": "stream",
          "name": "stdout",
          "text": [
            "10\n"
          ]
        }
      ]
    },
    {
      "cell_type": "code",
      "source": [
        "ans = 0\n",
        "while ans != 3*9:\n",
        " ans = int(input(\"3*9는\"))\n",
        "print(\"맞았습니다.\")"
      ],
      "metadata": {
        "colab": {
          "base_uri": "https://localhost:8080/"
        },
        "id": "fKDcbu1lBf5j",
        "outputId": "0f0fac18-1c48-426b-ab87-9a8d119918cd"
      },
      "execution_count": 13,
      "outputs": [
        {
          "output_type": "stream",
          "name": "stdout",
          "text": [
            "3*9는8\n",
            "3*9는9\n",
            "3*9는27\n",
            "맞았습니다.\n"
          ]
        }
      ]
    },
    {
      "cell_type": "code",
      "source": [
        "sum = 0\n",
        "while True:\n",
        " x = int(input(\"정수를 입력하시오: \"))\n",
        " if x == 0:\n",
        "   break;\n",
        " sum = sum + x\n",
        "\n",
        "print(\"합은 \", sum, \"입니다.\")"
      ],
      "metadata": {
        "colab": {
          "base_uri": "https://localhost:8080/"
        },
        "id": "BV368OTOBo_-",
        "outputId": "2e4ed356-d063-4437-8b48-11aa5f7880b2"
      },
      "execution_count": 15,
      "outputs": [
        {
          "output_type": "stream",
          "name": "stdout",
          "text": [
            "정수를 입력하시오: 1\n",
            "정수를 입력하시오: 2\n",
            "정수를 입력하시오: 3\n",
            "정수를 입력하시오: 0\n",
            "합은  6 입니다.\n"
          ]
        }
      ]
    },
    {
      "cell_type": "code",
      "source": [
        "from random import randint\n",
        "\n",
        "for i in range(3) :\n",
        " d1 = randint(1, 6)\n",
        " d2 = randint(1, 6)\n",
        " print(\"첫번째 주사위=\", d1, \"두번째 주사위=\", d2)"
      ],
      "metadata": {
        "colab": {
          "base_uri": "https://localhost:8080/"
        },
        "id": "wJDNH0sMB5cZ",
        "outputId": "02e6fc76-c016-497b-eae3-b381785f5857"
      },
      "execution_count": 131,
      "outputs": [
        {
          "output_type": "stream",
          "name": "stdout",
          "text": [
            "첫번째 주사위= 1 두번째 주사위= 5\n",
            "첫번째 주사위= 1 두번째 주사위= 5\n",
            "첫번째 주사위= 1 두번째 주사위= 5\n"
          ]
        }
      ]
    },
    {
      "cell_type": "code",
      "source": [
        "import turtle\n",
        "\n",
        "t = turtle.Turtle()\n",
        "t.shape(\"turtle\")\n",
        "t.left(90)\n",
        "\n",
        "for i in range (1,7):\n",
        " t.forward(100)\n",
        " t.forward(-30)\n",
        " t.left(60)\n",
        " t.forward(30)\n",
        " t.forward(-30)\n",
        " \n",
        " t.right(120)\n",
        " t.forward(30)\n",
        " t.forward(-30)\n",
        " \n",
        " t.left(60)\n",
        " t.forward(-70)\n",
        " t.left(60)"
      ],
      "metadata": {
        "id": "11ixyrjaCseR"
      },
      "execution_count": null,
      "outputs": []
    },
    {
      "cell_type": "code",
      "source": [
        "import turtle\n",
        "\n",
        "myPen = turtle.Turtle()\n",
        "myPen.speed(0)\n",
        "myPen.color(\"#FF0000\")\n",
        "\n",
        "for j in range (1,10):\n",
        " for i in range (1,6):\n",
        "   myPen.left(144)\n",
        "   myPen.forward(200)\n",
        "myPen.left(10)"
      ],
      "metadata": {
        "id": "OQdPU2oNC1p1"
      },
      "execution_count": null,
      "outputs": []
    },
    {
      "cell_type": "code",
      "source": [
        "import turtle\n",
        "import random\n",
        "\n",
        "t = turtle.Turtle()\n",
        "t.shape(\"turtle\")\n",
        "\n",
        "for j in range (1,10):\n",
        "  t.up()\n",
        "  x = random.randint(-200, 200)\n",
        "  y = random.randint(-200, 200)\n",
        "  r = random.randint(10, 200)\n",
        "  t.goto(x, y)\n",
        "  t.down()\n",
        "  t.circle(r)"
      ],
      "metadata": {
        "id": "nobEOVTdDNPm"
      },
      "execution_count": null,
      "outputs": []
    },
    {
      "cell_type": "code",
      "source": [
        "import turtle\n",
        "\n",
        "t = turtle.Turtle()\n",
        "t.shape(\"turtle\")\n",
        "\n",
        "for i in range(5):\n",
        "  t.forward(200);\n",
        "  t.right(90)\n",
        "  t.forward(20);\n",
        "  t.right(90)\n",
        "  t.forward(200);\n",
        "  t.left(90)\n",
        "  t.forward(20);\n",
        "  t.left(90)"
      ],
      "metadata": {
        "id": "x83101j4DQd5"
      },
      "execution_count": null,
      "outputs": []
    },
    {
      "cell_type": "code",
      "source": [
        "import turtle\n",
        "t = turtle.Turtle()\n",
        "t.shape(\"turtle\")\n",
        "t.color('red', 'yellow')\n",
        "t.begin_fill()\n",
        "while True:\n",
        "  t.forward(200)\n",
        "  t.left(170)\n",
        "  if abs(t.pos()) < 1:\n",
        "    break\n",
        "t.end_fill()"
      ],
      "metadata": {
        "id": "_6bakFstF0RP"
      },
      "execution_count": null,
      "outputs": []
    },
    {
      "cell_type": "code",
      "source": [
        "import turtle\n",
        "import math\n",
        "\n",
        "t= turtle.Turtle()\n",
        "t.shape(\"turtle\")\n",
        "t.color('red', 'yellow')\n",
        "\n",
        "for x in range(0, 360):\n",
        "  t.goto(x,200*math.sin(x*3.14/180))"
      ],
      "metadata": {
        "id": "W9a1YyZoDUrZ"
      },
      "execution_count": null,
      "outputs": []
    }
  ]
}